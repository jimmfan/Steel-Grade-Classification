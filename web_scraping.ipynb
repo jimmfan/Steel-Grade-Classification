{
 "cells": [
  {
   "cell_type": "code",
   "execution_count": 1,
   "metadata": {},
   "outputs": [
    {
     "data": {
      "text/plain": [
       "['/anaconda3/lib/python3.7/site-packages/requests']"
      ]
     },
     "execution_count": 1,
     "metadata": {},
     "output_type": "execute_result"
    }
   ],
   "source": [
    "import requests\n",
    "from bs4 import BeautifulSoup\n",
    "import pandas as pd\n",
    "import pickle\n",
    "\n",
    "from selenium import webdriver\n",
    "from selenium.webdriver.common.keys import Keys\n",
    "import time\n",
    "import chromedriver_binary\n",
    "requests.__path__"
   ]
  },
  {
   "cell_type": "code",
   "execution_count": 2,
   "metadata": {},
   "outputs": [
    {
     "name": "stdout",
     "output_type": "stream",
     "text": [
      "<bound method Tag.prettify of <html><head>\n",
      "<meta content=\"text/html; charset=utf-8\" http-equiv=\"Content-Type\"/>\n",
      "<meta content=\"width=device-width, initial-scale=1, maximum-scale=1\" name=\"viewport\"/>\n",
      "<script async=\"\" src=\"https://www.google-analytics.com/analytics.js\"></script><script defer=\"\" src=\"https://ajax.googleapis.com/ajax/libs/jquery/3.2.1/jquery.min.js\"></script>\n",
      "<link href=\"https://fonts.googleapis.com/css?family=Fira+Sans:400,700\" rel=\"stylesheet\"/>\n",
      "<script defer=\"\" src=\"/2019-01-10.js\" type=\"text/javascript\"></script>\n",
      "<link href=\"/2019-01-10.css\" rel=\"stylesheet\" type=\"text/css\"/>\n",
      "<link href=\"/favicon3.png\" rel=\"icon\" type=\"image/png\"/>\n",
      "<title>Iron Alloys :: MakeItFrom.com</title>\n",
      "</head>\n",
      "<body>\n",
      "<header>\n",
      "<section>\n",
      "<div class=\"split break-narrow\">\n",
      "<div>\n",
      "<div><a href=\"/\">MakeItFrom.com</a></div>\n",
      "<div id=\"esc-holder\">\n",
      "<span id=\"esc\">\n",
      "<span id=\"esc-label\">Menu</span>\n",
      "<span class=\"hide-narrow\"> (ESC)</span>\n",
      "</span>\n",
      "</div>\n",
      "</div>\n",
      "</div>\n",
      "</section>\n",
      "</header>\n",
      "<main>\n",
      "<section>\n",
      "<h1>Iron Alloys</h1>\n",
      "<div class=\"prose\"><p>Metals where the dominant alloying element is iron (Fe). Most such alloys are called steels.</p></div><div class=\"split links break-mid\"><div><a href=\"/material-group/Alloy-Steel-Welding-Filler\">Alloy Steel Welding Filler</a><a href=\"/material-group/Cast-Alloy-Steel\">Cast Alloy Steel</a></div><div><a href=\"/material-group/Cast-Austenitic-Stainless-Steel\">Cast Austenitic Stainless Steel</a><a href=\"/material-group/Cast-Carbon-Steel\">Cast Carbon Steel</a></div><div><a href=\"/material-group/Cast-Duplex-Austenitic-Ferritic-Stainless-Steel\">Cast Duplex (Austenitic-Ferritic) Stainless Steel</a><a href=\"/material-group/Cast-Ferritic-Stainless-Steel\">Cast Ferritic Stainless Steel</a></div><div><a href=\"/material-group/Cast-Iron\">Cast Iron</a><a href=\"/material-group/Cast-Martensitic-Stainless-Steel\">Cast Martensitic Stainless Steel</a></div><div><a href=\"/material-group/Cast-Precipitation-Hardening-Stainless-Steel\">Cast Precipitation-Hardening Stainless Steel</a><a href=\"/material-group/Low-Expansion-Iron-Alloy\">Low-Expansion Iron Alloy</a></div><div><a href=\"/material-group/Maraging-18Ni-Steel\">Maraging (18Ni) Steel</a><a href=\"/material-group/Otherwise-Unclassified-Iron-Alloy\">Otherwise Unclassified Iron Alloy</a></div><div><a href=\"/material-group/Stainless-Steel-Welding-Filler\">Stainless Steel Welding Filler</a><a href=\"/material-group/Tool-Steel\">Tool Steel</a></div><div><a href=\"/material-group/Wrought-Alloy-Steel-EN\">Wrought Alloy Steel (EN)</a><a href=\"/material-group/Wrought-Alloy-Steel-Otherwise-Unclassified\">Wrought Alloy Steel (Otherwise Unclassified)</a></div><div><a href=\"/material-group/Wrought-Alloy-Steel-SAE-AISI\">Wrought Alloy Steel (SAE-AISI)</a><a href=\"/material-group/Wrought-Austenitic-Stainless-Steel\">Wrought Austenitic Stainless Steel</a></div><div><a href=\"/material-group/Wrought-Carbon-Or-Non-Alloy-Steel\">Wrought Carbon Or Non-Alloy Steel</a><a href=\"/material-group/Wrought-Duplex-Austenitic-Ferritic-Stainless-Steel\">Wrought Duplex (Austenitic-Ferritic) Stainless Steel</a></div><div><a href=\"/material-group/Wrought-Ferritic-Stainless-Steel\">Wrought Ferritic Stainless Steel</a><a href=\"/material-group/Wrought-Martensitic-Stainless-Steel\">Wrought Martensitic Stainless Steel</a></div><div><a href=\"/material-group/Wrought-Precipitation-Hardening-Stainless-Steel\">Wrought Precipitation-Hardening Stainless Steel</a><a href=\"/material-group/Wrought-Resulfurized-Carbon-Steel\">Wrought Resulfurized Carbon Steel</a></div><div><a href=\"/material-group/Wrought-Superaustenitic-Stainless-Steel\">Wrought Superaustenitic Stainless Steel</a><div></div></div></div> </section>\n",
      "</main>\n",
      "<div class=\"menu hidden\">\n",
      "<section>\n",
      "<div class=\"split pair break-mid\">\n",
      "<a class=\"logged-in hidden\" href=\"/member\">Member Area</a>\n",
      "<div class=\"not-logged-in\">\n",
      "<div><a href=\"/member/login\">Login</a></div>\n",
      "<div><a href=\"/member/join\">Get Membership</a></div>\n",
      "</div>\n",
      "</div>\n",
      "</section>\n",
      "<section>\n",
      "<h3>Find Materials</h3>\n",
      "<input autocomplete=\"off\" class=\"textbox\" id=\"name-search\" maxlength=\"30\" placeholder=\"Search by Name\" type=\"text\"/>\n",
      "<div id=\"search-result\"></div>\n",
      "<div class=\"split pair break-mid\">\n",
      "<div>\n",
      "<div><a href=\"/property-search\" rel=\"nofollow\">Search by Property Value</a></div>\n",
      "<div><a href=\"/\">Browse from Home Page</a></div>\n",
      "</div>\n",
      "</div>\n",
      "</section>\n",
      "</div>\n",
      "<footer>Copyright 2009-19: <a href=\"/terms\">Disclaimer and Terms</a></footer>\n",
      "<script>\n",
      "\t(function(i,s,o,g,r,a,m){i['GoogleAnalyticsObject']=r;i[r]=i[r]||function(){\n",
      "\t(i[r].q=i[r].q||[]).push(arguments)},i[r].l=1*new Date();a=s.createElement(o),\n",
      "\tm=s.getElementsByTagName(o)[0];a.async=1;a.src=g;m.parentNode.insertBefore(a,m)\n",
      "\t})(window,document,'script','https://www.google-analytics.com/analytics.js','ga');\n",
      "\n",
      "\tga('create', 'UA-12967136-1', 'auto');\n",
      "\tga('send', 'pageview');\n",
      "\n",
      "</script>\n",
      "</body></html>>\n"
     ]
    }
   ],
   "source": [
    "base_url = 'https://www.makeitfrom.com/material-group/Iron-Alloy/'\n",
    "\n",
    "response = requests.get(base_url)  # make request\n",
    "\n",
    "driver = webdriver.Chrome()  # open browser\n",
    "\n",
    "driver.get(base_url)  # add url\n",
    "\n",
    "page = driver.page_source\n",
    "\n",
    "soup = BeautifulSoup(page, 'html.parser')  # Beautify text\n",
    "\n",
    "print(soup.prettify)\n",
    "\n",
    "soup2 = [link for link in soup.find_all(class_='split links break-mid')]\n",
    "\n",
    "chain_soup = [x.find_all('a', href=True) for x in soup2]\n",
    "\n",
    "links = [str(ch).split('>')[0].replace('<a href=', '').strip('\\\"') for chain\n",
    "         in chain_soup for ch in chain]  # find target links\n",
    "\n",
    "links = [l for l in links if 'Stainless' in l]\n",
    "\n",
    "links = [l for l in links if 'Welding' not in l]  # Remove unwanted links\n",
    "urls = [l for l in links if 'Precipitation' not in l]  # Remove unwanted links"
   ]
  },
  {
   "cell_type": "code",
   "execution_count": 3,
   "metadata": {},
   "outputs": [],
   "source": [
    "base_url = 'https://www.makeitfrom.com'\n",
    "\n",
    "url_lst = [base_url + url for url in urls]\n"
   ]
  },
  {
   "cell_type": "code",
   "execution_count": 12,
   "metadata": {},
   "outputs": [],
   "source": [
    "url_lst = [url for url in url_lst if 'Duplex-Austenitic-Ferritic-' not in url]"
   ]
  },
  {
   "cell_type": "code",
   "execution_count": 13,
   "metadata": {},
   "outputs": [
    {
     "data": {
      "text/plain": [
       "['https://www.makeitfrom.com/material-group/Cast-Austenitic-Stainless-Steel',\n",
       " 'https://www.makeitfrom.com/material-group/Cast-Ferritic-Stainless-Steel',\n",
       " 'https://www.makeitfrom.com/material-group/Cast-Martensitic-Stainless-Steel',\n",
       " 'https://www.makeitfrom.com/material-group/Wrought-Austenitic-Stainless-Steel',\n",
       " 'https://www.makeitfrom.com/material-group/Wrought-Ferritic-Stainless-Steel',\n",
       " 'https://www.makeitfrom.com/material-group/Wrought-Martensitic-Stainless-Steel',\n",
       " 'https://www.makeitfrom.com/material-group/Wrought-Superaustenitic-Stainless-Steel']"
      ]
     },
     "execution_count": 13,
     "metadata": {},
     "output_type": "execute_result"
    }
   ],
   "source": [
    "url_lst"
   ]
  },
  {
   "cell_type": "code",
   "execution_count": 26,
   "metadata": {},
   "outputs": [],
   "source": [
    "data_dict = {}\n",
    "    "
   ]
  },
  {
   "cell_type": "code",
   "execution_count": 25,
   "metadata": {},
   "outputs": [],
   "source": [
    "for url in url_lst[:1]:\n",
    "    response = requests.get(url)\n",
    "    response.status_code\n",
    "    driver = webdriver.Chrome()\n",
    "    driver.get(url)\n",
    "    time.sleep(.3)\n",
    "    page = driver.page_source\n",
    "    soup = BeautifulSoup(page, 'html.parser')\n",
    "    soup2 = [link for link in soup.find_all(class_='split links break-mid')]\n",
    "    chain_soup = [x.find_all('a', href=True) for x in soup2]\n",
    "    links = [str(ch).split('>')[0].replace('<a href=', '').strip('\\\"') for chain in chain_soup for ch in chain]\n",
    "    key_name = url.split('/')[-1]\n",
    "    for link in links[:2]:\n",
    "        driver = webdriver.Chrome()\n",
    "        driver.get('https://www.makeitfrom.com/' + link)\n",
    "        time.sleep(.7)\n",
    "        page = driver.page_source\n",
    "        soup = BeautifulSoup(page, 'html.parser')\n",
    "        soup = soup.find('table', {'class': 'comps'})\n",
    "        element = [s.contents[1].text for i, s in enumerate(soup.find_all('td'), start=1) if i % 3 == 1]\n",
    "        percent = [s.text for i, s in enumerate(soup.find_all('td'), start=1) if i % 3 == 0]\n",
    "        element_composition = [[element[i], percent[i]] for i in range(len(element))] \n",
    "        metal_name = str(link)[21:]\n",
    "        data_dict[key_name] = element_composition\n",
    "        driver.close()"
   ]
  },
  {
   "cell_type": "code",
   "execution_count": 24,
   "metadata": {},
   "outputs": [
    {
     "data": {
      "text/plain": [
       "{'Cast-Austenitic-Stainless-Steel': [['Fe', '59.1 to 65.4'],\n",
       "  ['Cr', '16 to 18'],\n",
       "  ['Ni', '8.0 to 9.0'],\n",
       "  ['Mn', '7.0 to 9.0'],\n",
       "  ['Si', '3.5 to 4.5'],\n",
       "  ['N', '0.080 to 0.18'],\n",
       "  ['C', '0 to 0.1'],\n",
       "  ['P', '0 to 0.060'],\n",
       "  ['S', '0 to 0.030']],\n",
       " 'Cast-Ferritic-Stainless-Steel': [['Fe', '62.9 to 74'],\n",
       "  ['Cr', '26 to 30'],\n",
       "  ['Ni', '0 to 4.0'],\n",
       "  ['Si', '0 to 1.5'],\n",
       "  ['Mn', '0 to 1.0'],\n",
       "  ['C', '0 to 0.5'],\n",
       "  ['P', '0 to 0.040'],\n",
       "  ['S', '0 to 0.040']],\n",
       " 'Austenitic': [['Fe', '59.1 to 65.4'],\n",
       "  ['Cr', '16 to 18'],\n",
       "  ['Ni', '8.0 to 9.0'],\n",
       "  ['Mn', '7.0 to 9.0'],\n",
       "  ['Si', '3.5 to 4.5'],\n",
       "  ['N', '0.080 to 0.18'],\n",
       "  ['C', '0 to 0.1'],\n",
       "  ['P', '0 to 0.060'],\n",
       "  ['S', '0 to 0.030']],\n",
       " 'Ferritic': [['Fe', '62.9 to 74'],\n",
       "  ['Cr', '26 to 30'],\n",
       "  ['Ni', '0 to 4.0'],\n",
       "  ['Si', '0 to 1.5'],\n",
       "  ['Mn', '0 to 1.0'],\n",
       "  ['C', '0 to 0.5'],\n",
       "  ['P', '0 to 0.040'],\n",
       "  ['S', '0 to 0.040']],\n",
       " 'Cast-Martensitic-Stainless-Steel': [['Fe', '82.1 to 88.4'],\n",
       "  ['Cr', '11.5 to 14'],\n",
       "  ['Mo', '0.15 to 1.0'],\n",
       "  ['Mn', '0 to 1.0'],\n",
       "  ['Ni', '0 to 1.0'],\n",
       "  ['Si', '0 to 0.65'],\n",
       "  ['C', '0 to 0.15'],\n",
       "  ['P', '0 to 0.040'],\n",
       "  ['S', '0 to 0.040']],\n",
       " 'Wrought-Austenitic-Stainless-Steel': [['Fe', '67.9 to 75'],\n",
       "  ['Cr', '16 to 18'],\n",
       "  ['Mn', '5.5 to 7.5'],\n",
       "  ['Ni', '3.5 to 5.5'],\n",
       "  ['Si', '0 to 0.75'],\n",
       "  ['N', '0 to 0.25'],\n",
       "  ['P', '0 to 0.045'],\n",
       "  ['C', '0 to 0.030'],\n",
       "  ['S', '0 to 0.030']],\n",
       " 'Wrought-Ferritic-Stainless-Steel': [['Fe', '84.9 to 89.5'],\n",
       "  ['Cr', '10.5 to 11.7'],\n",
       "  ['Mn', '0 to 1.0'],\n",
       "  ['Si', '0 to 1.0'],\n",
       "  ['Ti', '0 to 0.75'],\n",
       "  ['Ni', '0 to 0.5'],\n",
       "  ['C', '0 to 0.080'],\n",
       "  ['P', '0 to 0.045'],\n",
       "  ['S', '0 to 0.030']]}"
      ]
     },
     "execution_count": 24,
     "metadata": {},
     "output_type": "execute_result"
    }
   ],
   "source": [
    "data_dict"
   ]
  },
  {
   "cell_type": "code",
   "execution_count": 15,
   "metadata": {},
   "outputs": [],
   "source": [
    "with open('data.pkl', 'wb') as outfile:\n",
    "    pickle.dump(data_dict, outfile, protocol=pickle.HIGHEST_PROTOCOL)"
   ]
  },
  {
   "cell_type": "code",
   "execution_count": 16,
   "metadata": {},
   "outputs": [],
   "source": [
    "with open('data.pkl', 'rb') as infile:\n",
    "    data = pickle.load(infile)"
   ]
  },
  {
   "cell_type": "code",
   "execution_count": null,
   "metadata": {},
   "outputs": [],
   "source": []
  }
 ],
 "metadata": {
  "kernelspec": {
   "display_name": "metis",
   "language": "python",
   "name": "metis"
  },
  "language_info": {
   "codemirror_mode": {
    "name": "ipython",
    "version": 3
   },
   "file_extension": ".py",
   "mimetype": "text/x-python",
   "name": "python",
   "nbconvert_exporter": "python",
   "pygments_lexer": "ipython3",
   "version": "3.7.3"
  }
 },
 "nbformat": 4,
 "nbformat_minor": 2
}
